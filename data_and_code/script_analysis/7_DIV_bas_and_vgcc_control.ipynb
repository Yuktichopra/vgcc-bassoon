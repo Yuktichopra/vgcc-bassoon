{
  "cells": [
    {
      "cell_type": "code",
      "execution_count": null,
      "metadata": {
        "id": "V_XKWwFutuw3"
      },
      "outputs": [],
      "source": [
        "import pandas as pd\n",
        "from openpyxl import load_workbook\n",
        "\n",
        "for j in range (1, 9):\n",
        "    j =str(j)\n",
        "    df1=pd.read_csv(\"Path to you .msr file and text file with data of regions ---samplecell \"+j+\".msr - STED_VGCC - C=0.MIA\\\\tracking\\\\cell \"+j+\".msr - STED_VGCC - C=0_Domains.txt\" ,delimiter=\"\\t\", skiprows=2)\n",
        "    df2=pd.read_csv(\"Path to you .msr file and text file with data of regions ---samplecell \"+j+\".msr - STED_Bassoon - C=0.MIA\\\\tracking\\\\cell \"+j+\".msr - STED_Bassoon - C=0_Domains.txt\" ,delimiter=\"\\t\", skiprows=2)\n",
        "    df1 =  df1.sort_values(by=[' ROI'])\n",
        "    df2 =  df2.sort_values(by=[' ROI'])\n",
        "    roisyt = pd.read_excel(\"path to 7DIV VGCC 594 Bas 647\\\\area and intensity of regions\\\\cell \"+j+\" 647.xlsx\")\n",
        "    #roisyt = roisyt.loc[(roisyt['Length'] <= .110) &(roisyt['Breadth'] <= .110)]\n",
        "    roiglu = pd.read_excel(\"path to 7DIV VGCC 594 Bas 647\\\\area and intensity of regions\\\\cell \"+j+\" 594.xlsx\" )\n",
        "    #roiglu = roiglu.loc[(roiglu['Length'] <= .110) &(roiglu['Breadth'] <= .110)]\n",
        "    clussyt = pd.read_excel(\"path to 7DIV VGCC 594 Bas 647\\\\region measurements of clusters\\\\cell \"+j+\" 647.xlsx\" )\n",
        "    clusglu = pd.read_excel(\"path to 7DIV VGCC 594 Bas 647\\\\region measurements of clusters\\\\cell \"+j+\" 594.xlsx\" )\n",
        "    dfrois = pd.DataFrame()\n",
        "    dfrois[' ROI'] = roisyt['Object #']\n",
        "    dfrois['Integrated Intensity roi-s'] = roisyt['Total intensity']\n",
        "    dfrois['Area roi'] = roisyt['Area']\n",
        "    dfroig = pd.DataFrame()\n",
        "    dfroig[' ROI'] = roiglu['Object #']\n",
        "    dfroig['Integrated Intensity roi-g'] = roiglu['Total intensity']\n",
        "    dfroig['Area roi'] = roiglu['Area']\n",
        "    dfcluss = pd.DataFrame()\n",
        "    dfcluss['N°Domain'] = clussyt['Region Label']\n",
        "    dfcluss['Integrated Intensity -s'] = clussyt['Integrated Intensity']\n",
        "    dfclusg = pd.DataFrame()\n",
        "    dfclusg['N°Domain'] = clusglu['Region Label']\n",
        "    dfclusg['Integrated Intensity -g'] = clusglu['Integrated Intensity']\n",
        "    df2 = pd.merge(dfrois, df2, on = ' ROI')\n",
        "    df2 = pd.merge(dfcluss, df2, on = 'N°Domain')\n",
        "    df1 = pd.merge(dfroig, df1, on = ' ROI')\n",
        "    df1 = pd.merge(dfclusg, df1, on = 'N°Domain')\n",
        "    new1 = pd.DataFrame()\n",
        "    new2 = pd.DataFrame()\n",
        "    new3 = pd.DataFrame()\n",
        "    new4 = pd.DataFrame()\n",
        "    new1['ROI'] = df2[' ROI']\n",
        "    new1['N°Domain Bassoon'] = df2['N°Domain']\n",
        "    new1['XBassoon'] = df2['Xc']\n",
        "    new1['YBassoon'] = df2['Yc']\n",
        "    new1['Sigma X'] = 2.3*(df2['SigmaX'])\n",
        "    new1['Sigma Y'] = 2.3*(df2['SigmaY'])\n",
        "    new1['Intensity'] = df2['Intensity']\n",
        "    new1['Area'] = ((new1['Sigma X']*new1['Sigma Y']*3.14)/4)\n",
        "    new1['Integrated Intensity -s'] = df2['Integrated Intensity -s']\n",
        "    new1['Integrated Intensity roi-s'] = df2['Integrated Intensity roi-s']\n",
        "    new1['Area roi'] = df2['Area roi']\n",
        "    new2['ROI'] = df1[' ROI']\n",
        "    new2['N°Domain VGCC'] = df1['N°Domain']\n",
        "    new2['XVGCC'] = df1['Xc']\n",
        "    new2['YVGCC'] = df1['Yc']\n",
        "    new2['Sigma X'] = 2.3*(df1['SigmaX'])\n",
        "    new2['Sigma Y'] = 2.3*(df1['SigmaY'])\n",
        "    new2['Intensity'] = df1['Intensity']\n",
        "    new2['Area'] = ((new2['Sigma X']*new2['Sigma Y']*3.14)/4)\n",
        "    new2['Integrated Intensity -g'] = df1['Integrated Intensity -g']\n",
        "    new2['Integrated Intensity roi-g'] = df1['Integrated Intensity roi-g']\n",
        "\n",
        "\n",
        "    new2 = pd.merge(new2, new1, on = 'ROI')\n",
        "    new2['S2G'] = (((new2['XVGCC']-new2['XBassoon'])**2 + (new2['YVGCC']-new2['YBassoon'])**2)**.5)*.015\n",
        "    new3['ROI'] = new2['ROI']\n",
        "    new3['N°Domain VGCC'] = new2['N°Domain VGCC']\n",
        "    new3['XVGCC'] = new2['XVGCC']\n",
        "    new3['YVGCC'] = new2['YVGCC']\n",
        "    new4['ROI'] = new2['ROI']\n",
        "    new4['N°Domain Bassoon'] = new2['N°Domain Bassoon']\n",
        "    new4['XBassoon'] = new2['XBassoon']\n",
        "    new4['YBassoon'] = new2['YBassoon']\n",
        "    new4 = new4.drop_duplicates()\n",
        "    new3 = new3.drop_duplicates()\n",
        "    #Save in your relevant directory\n",
        "    for i in range (1, 9):\n",
        "        i = str(i)\n",
        "        new3['ss'+i] = ((((new3['XVGCC']-new3['XVGCC'].shift(int(i)))**2 + (new3['YVGCC']-new3['YVGCC'].shift(int(i)))**2)**.5)*.015)\n",
        "        new3['ss'+i] = new3.apply(lambda x: x['ss'+i] if x['ss'+i] < 2.5 else None, axis=1)\n",
        "        new4['gg'+i] = ((((new4['XBassoon']-new4['XBassoon'].shift(int(i)))**2 + (new4['YBassoon']-new4['YBassoon'].shift(int(i)))**2)**.5)*.015)\n",
        "        new4['gg'+i] = new4.apply(lambda x: x['gg'+i] if x['gg'+i] < 2.5 else None, axis=1)\n",
        "    new2.to_excel('C:\\\\Users\\\\Desktop\\\\Distance 2\\\\sg'+j+'.xlsx', index=False)\n",
        "    new3.to_excel('C:\\\\Users\\\\Desktop\\\\Distance 2\\\\ss'+j+'.xlsx', index=False)\n",
        "    new4.to_excel('C:\\\\Users\\\\Desktop\\\\Distance 2\\\\gg'+j+'.xlsx', index=False)\n",
        "    new2_100 = new2.loc[new2['S2G'] <= .100]\n",
        "    new2_more = new2.loc[new2['S2G'] > .100]\n",
        "\n",
        "\n",
        "    path = r'C:\\Users\\Desktop\\Distance 2\\sg'+j+'.xlsx'\n",
        "    book = load_workbook(path)\n",
        "    writer = pd.ExcelWriter(path, engine = 'openpyxl')\n",
        "    writer.book = book\n",
        "    df594 = new2_100[[ 'N°Domain VGCC', 'XVGCC', 'YVGCC', 'Sigma X_x', 'Sigma Y_x','Intensity_x', 'Area_x', 'Integrated Intensity -g', 'Integrated Intensity roi-g', 'Area roi']].copy()\n",
        "    df647 = new2_100[['N°Domain Bassoon', 'XBassoon', 'YBassoon', 'Sigma X_y','Sigma Y_y', 'Intensity_y', 'Area_y','Integrated Intensity -s', 'Integrated Intensity roi-s', 'Area roi']].copy()\n",
        "    df1594 = new2_more[[ 'N°Domain VGCC', 'XVGCC', 'YVGCC', 'Sigma X_x', 'Sigma Y_x','Intensity_x', 'Area_x','Integrated Intensity -g', 'Integrated Intensity roi-g', 'Area roi']].copy()\n",
        "    df1647 = new2_more[['N°Domain Bassoon', 'XBassoon', 'YBassoon', 'Sigma X_y','Sigma Y_y', 'Intensity_y', 'Area_y','Integrated Intensity -s', 'Integrated Intensity roi-s', 'Area roi']].copy()\n",
        "    df594 = df594.groupby(['N°Domain VGCC']).mean()\n",
        "    df647 = df647.groupby(['N°Domain Bassoon']).mean()\n",
        "    df1594 = df1594.groupby(['N°Domain VGCC']).mean()\n",
        "    df1647 = df1647.groupby(['N°Domain Bassoon']).mean()\n",
        "\n",
        "    df594['Intensity Ratio'] = df594['Integrated Intensity -g']/df594['Integrated Intensity roi-g']\n",
        "    df1594['Intensity Ratio'] = df1594['Integrated Intensity -g']/df1594['Integrated Intensity roi-g']\n",
        "    df647['Intensity Ratio'] = df647['Integrated Intensity -s']/df647['Integrated Intensity roi-s']\n",
        "    df1647['Intensity Ratio'] = df1647['Integrated Intensity -s']/df1647['Integrated Intensity roi-s']\n",
        "    df594['Area Ratio'] = df594['Area_x']/df594['Area roi']\n",
        "    df1594['Area Ratio'] = df1594['Area_x']/df1594['Area roi']\n",
        "    df647['Area Ratio'] = df647['Area_y']/df647['Area roi']\n",
        "    df1647['Area Ratio'] = df1647['Area_y']/df1647['Area roi']\n",
        "\n",
        "    df594.to_excel(writer, sheet_name = 'less_than_100_594')\n",
        "    df647.to_excel(writer, sheet_name = 'less_than_100_647')\n",
        "    df1594.to_excel(writer, sheet_name = 'more_100_594')\n",
        "    df1647.to_excel(writer, sheet_name = 'more_100_647')\n",
        "    writer.save()\n",
        "    writer.close()"
      ]
    },
    {
      "cell_type": "code",
      "execution_count": null,
      "metadata": {
        "id": "bA_a7Kndtuw7"
      },
      "outputs": [],
      "source": [
        "new3['ss'+i] = ((((new3['XVGCC']-new3['XVGCC'].shift(int(i)))**2 + (new3['YVGCC']-new3['YVGCC'].shift(int(i)))**2)**.5)*.015)\n",
        "new3['ss'+i] = new3.apply(lambda x: x['ss'+i] if x['ss'+i] < 2.5 else None, axis=1)\n",
        "new4['gg'+i] = ((((new4['XBassoon']-new4['XBassoon'].shift(int(i)))**2 + (new4['YBassoon']-new4['YBassoon'].shift(int(i)))**2)**.5)*.015)\n",
        "new4['gg'+i] = new4.apply(lambda x: x['gg'+i] if x['gg'+i] < 2.5 else None, axis=1)"
      ]
    },
    {
      "cell_type": "code",
      "execution_count": null,
      "metadata": {
        "id": "jKjRhteAtuw8",
        "outputId": "370fd9a1-ccdf-42f0-934c-c1ad418d8d53"
      },
      "outputs": [
        {
          "data": {
            "text/html": [
              "<div>\n",
              "<style scoped>\n",
              "    .dataframe tbody tr th:only-of-type {\n",
              "        vertical-align: middle;\n",
              "    }\n",
              "\n",
              "    .dataframe tbody tr th {\n",
              "        vertical-align: top;\n",
              "    }\n",
              "\n",
              "    .dataframe thead th {\n",
              "        text-align: right;\n",
              "    }\n",
              "</style>\n",
              "<table border=\"1\" class=\"dataframe\">\n",
              "  <thead>\n",
              "    <tr style=\"text-align: right;\">\n",
              "      <th></th>\n",
              "      <th>N°Domain VGCC</th>\n",
              "      <th>XVGCC</th>\n",
              "      <th>YVGCC</th>\n",
              "      <th>Sigma X_x</th>\n",
              "      <th>Sigma Y_x</th>\n",
              "      <th>Intensity_x</th>\n",
              "      <th>Area_x</th>\n",
              "      <th>Integrated Intensity -g</th>\n",
              "      <th>Integrated Intensity roi-g</th>\n",
              "      <th>ROI</th>\n",
              "      <th>...</th>\n",
              "      <th>XBassoon</th>\n",
              "      <th>YBassoon</th>\n",
              "      <th>Sigma X_y</th>\n",
              "      <th>Sigma Y_y</th>\n",
              "      <th>Intensity_y</th>\n",
              "      <th>Area_y</th>\n",
              "      <th>Integrated Intensity -s</th>\n",
              "      <th>Integrated Intensity roi-s</th>\n",
              "      <th>Area roi</th>\n",
              "      <th>S2G</th>\n",
              "    </tr>\n",
              "  </thead>\n",
              "  <tbody>\n",
              "  </tbody>\n",
              "</table>\n",
              "<p>0 rows × 21 columns</p>\n",
              "</div>"
            ],
            "text/plain": [
              "Empty DataFrame\n",
              "Columns: [N°Domain VGCC, XVGCC, YVGCC, Sigma X_x, Sigma Y_x, Intensity_x, Area_x, Integrated Intensity -g, Integrated Intensity roi-g, ROI, N°Domain Bassoon, XBassoon, YBassoon, Sigma X_y, Sigma Y_y, Intensity_y, Area_y, Integrated Intensity -s, Integrated Intensity roi-s, Area roi, S2G]\n",
              "Index: []\n",
              "\n",
              "[0 rows x 21 columns]"
            ]
          },
          "execution_count": 16,
          "metadata": {},
          "output_type": "execute_result"
        }
      ],
      "source": [
        "new2\n"
      ]
    },
    {
      "cell_type": "code",
      "execution_count": null,
      "metadata": {
        "id": "qBjB4CHWtuw9",
        "outputId": "954c4c81-a3d2-4a72-ff07-71ddd034e3cb"
      },
      "outputs": [
        {
          "data": {
            "text/html": [
              "<div>\n",
              "<style scoped>\n",
              "    .dataframe tbody tr th:only-of-type {\n",
              "        vertical-align: middle;\n",
              "    }\n",
              "\n",
              "    .dataframe tbody tr th {\n",
              "        vertical-align: top;\n",
              "    }\n",
              "\n",
              "    .dataframe thead th {\n",
              "        text-align: right;\n",
              "    }\n",
              "</style>\n",
              "<table border=\"1\" class=\"dataframe\">\n",
              "  <thead>\n",
              "    <tr style=\"text-align: right;\">\n",
              "      <th></th>\n",
              "      <th>ROI</th>\n",
              "      <th>N°Domain VGCC</th>\n",
              "      <th>XVGCC</th>\n",
              "      <th>YVGCC</th>\n",
              "      <th>ss1</th>\n",
              "    </tr>\n",
              "  </thead>\n",
              "  <tbody>\n",
              "  </tbody>\n",
              "</table>\n",
              "</div>"
            ],
            "text/plain": [
              "Empty DataFrame\n",
              "Columns: [ROI, N°Domain VGCC, XVGCC, YVGCC, ss1]\n",
              "Index: []"
            ]
          },
          "execution_count": 17,
          "metadata": {},
          "output_type": "execute_result"
        }
      ],
      "source": [
        "new3"
      ]
    }
  ],
  "metadata": {
    "kernelspec": {
      "display_name": "Python 3",
      "language": "python",
      "name": "python3"
    },
    "language_info": {
      "codemirror_mode": {
        "name": "ipython",
        "version": 3
      },
      "file_extension": ".py",
      "mimetype": "text/x-python",
      "name": "python",
      "nbconvert_exporter": "python",
      "pygments_lexer": "ipython3",
      "version": "3.7.6"
    },
    "colab": {
      "provenance": []
    }
  },
  "nbformat": 4,
  "nbformat_minor": 0
}