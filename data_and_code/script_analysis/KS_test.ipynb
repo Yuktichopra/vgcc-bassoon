{
  "cells": [
    {
      "cell_type": "code",
      "execution_count": null,
      "metadata": {
        "id": "ENjmLthRwc1-"
      },
      "outputs": [],
      "source": [
        "import pandas as pd\n",
        "from scipy import stats\n",
        "import numpy as np\n",
        "df  = pd.read_excel('path to bassoon sted on sted average intensity.xlsx', sheet_name = 'Sheet1')\n",
        "df = df.dropna()\n",
        "\n",
        "#run this code cell by cell, in the end you will have excel sheets of optimised scaling factors derived from KS test"
      ]
    },
    {
      "cell_type": "code",
      "execution_count": null,
      "metadata": {
        "id": "5uUf7DOywc2B"
      },
      "outputs": [],
      "source": [
        "index=range(0,2000)\n",
        "index\n",
        "\n",
        "columns=['Control', 'TTX']\n",
        "new = pd.DataFrame(index=index, columns=columns)\n",
        "l = []\n",
        "count = 1\n",
        "while (count < 102):\n",
        "\n",
        "    l.append(df.apply(lambda x : x.sample(2200)).apply(lambda x : sorted(x,key=pd.isnull)).reset_index(drop=True))\n",
        "\n",
        "    count = count + 1\n",
        "\n"
      ]
    },
    {
      "cell_type": "code",
      "execution_count": null,
      "metadata": {
        "id": "tmPrmwM6wc2C"
      },
      "outputs": [],
      "source": [
        "#creating new sheets for simulations\n",
        "for i in range (1,101):\n",
        "    new['Control'] = l[i]['Control']\n",
        "    new['TTX'] = l[i]['TTX']\n",
        "    i = str(i)\n",
        "    new.to_csv('C:\\\\Users\\\\Desktop\\\\KS\\\\new'+i+'.csv', index = False)"
      ]
    },
    {
      "cell_type": "code",
      "execution_count": null,
      "metadata": {
        "id": "ZNC2XwNywc2C"
      },
      "outputs": [],
      "source": [
        "\n",
        "for i in range (1,101):\n",
        "    i = str(i)\n",
        "    df = pd.read_csv('C:\\\\Users\\\\Desktop\\\\KS\\\\new'+i+'.csv')\n",
        "    for x in range(100, 400):\n",
        "        x = str(x)\n",
        "        df['new'+ x] = (df['TTX']/(int(x)*.01))\n",
        "    df = pd.DataFrame(np.sort(df.values, axis=0), index=df.index, columns=df.columns)\n",
        "    df.to_csv('C:\\\\Users\\\\Desktop\\\\KS\\\\new'+i+'.csv', index = False)"
      ]
    },
    {
      "cell_type": "code",
      "execution_count": null,
      "metadata": {
        "id": "OeBoEXnwwc2D"
      },
      "outputs": [],
      "source": [
        "for i in range (1,101):\n",
        "    i = str(i)\n",
        "    df = pd.read_csv('C:\\\\Users\\\\Desktop\\\\KS\\\\new'+i+'.csv')\n",
        "    mini = df['Control'].min()\n",
        "    df = df.dropna()\n",
        "\n",
        "    for x in range (100,400):\n",
        "        x = str(x)\n",
        "        df['new' + x] = df.apply(lambda m: m['new' + x] if m['new' + x] > mini else None, axis=1)\n",
        "    df.to_csv('C:\\\\Users\\\\Desktop\\\\KS\\\\new'+i+'.csv', index = False)"
      ]
    },
    {
      "cell_type": "code",
      "execution_count": null,
      "metadata": {
        "id": "MLz0y1zKwc2D",
        "outputId": "20175fe2-ec3c-4658-f3c3-e59c9c2982df"
      },
      "outputs": [
        {
          "name": "stderr",
          "output_type": "stream",
          "text": [
            "C:\\Users\\Kapil\\anaconda3\\lib\\site-packages\\ipykernel_launcher.py:18: SettingWithCopyWarning: \n",
            "A value is trying to be set on a copy of a slice from a DataFrame\n",
            "\n",
            "See the caveats in the documentation: https://pandas.pydata.org/pandas-docs/stable/user_guide/indexing.html#returning-a-view-versus-a-copy\n",
            "C:\\Users\\Kapil\\anaconda3\\lib\\site-packages\\ipykernel_launcher.py:19: SettingWithCopyWarning: \n",
            "A value is trying to be set on a copy of a slice from a DataFrame\n",
            "\n",
            "See the caveats in the documentation: https://pandas.pydata.org/pandas-docs/stable/user_guide/indexing.html#returning-a-view-versus-a-copy\n"
          ]
        }
      ],
      "source": [
        "#Saving data from stat\n",
        "for i in range (1,101):\n",
        "    i = str(i)\n",
        "    df = pd.read_csv('C:\\\\Users\\\\Desktop\\\\KS\\\\new'+i+'.csv')\n",
        "\n",
        "    df['pvalue'] = ''\n",
        "    df['statistic'] = ''\n",
        "    k = 1\n",
        "    for x in range (100,400):\n",
        "\n",
        "        x = str(x)\n",
        "\n",
        "        a = np.array(df['Control'])\n",
        "        b = np.array(df['new' + x ])\n",
        "        a = a.ravel()\n",
        "        b = b.ravel()\n",
        "        z = stats.ks_2samp(a,b)\n",
        "\n",
        "        df['statistic'][k]=z.statistic\n",
        "        df['pvalue'][k]=z.pvalue\n",
        "        k = k+1\n",
        "    df.to_csv('C:\\\\Users\\\\Desktop\\\\KS\\\\new'+i+'.csv')\n",
        "\n",
        "\n",
        ""
      ]
    },
    {
      "cell_type": "code",
      "execution_count": null,
      "metadata": {
        "id": "WWqhvP_Qwc2E"
      },
      "outputs": [],
      "source": [
        "index=range(0,2000)\n",
        "\n",
        "columns=['pvalue']\n",
        "new = pd.DataFrame(index=index, columns=columns)\n",
        "\n",
        "for i in range (1,101):\n",
        "    i = str(i)\n",
        "    df  = pd.read_csv('C:\\\\Users\\\\Desktop\\\\KS\\\\new'+i+'.csv')\n",
        "\n",
        "    new['pvalue'+i]=df['pvalue']\n",
        "    new['SF'] = new.index + 91\n",
        "\n",
        "new = new.drop(['pvalue'], axis = 1)\n",
        "new.to_csv('C:\\\\Users\\\\Desktop\\\\KS\\\\new p-value.csv', index = False)"
      ]
    },
    {
      "cell_type": "code",
      "execution_count": null,
      "metadata": {
        "id": "snJKxbIRwc2E"
      },
      "outputs": [],
      "source": [
        "import pandas as pd\n",
        "index=range(0,150)\n",
        "columns=['SF', 'pvalue']\n",
        "new = pd.DataFrame(index=index, columns=columns)\n",
        "df  = pd.read_csv('C:\\\\Users\\\\Desktop\\\\KS\\\\new p-value.csv')\n",
        "for i in range (1,101):\n",
        "        i = str(i)\n",
        "        y = df['SF'][df['pvalue'+i]==df['pvalue'+i].max()]\n",
        "        new['SF'][int(i)] = y.max()\n",
        "        new['pvalue'][int(i)] = df['pvalue'+i].max()\n",
        "new.to_csv('C:\\\\Users\\\\Desktop\\\\KS\\\\new SF.csv', index = False)"
      ]
    },
    {
      "cell_type": "code",
      "execution_count": null,
      "metadata": {
        "id": "W-dzgwmWwc2E"
      },
      "outputs": [],
      "source": []
    },
    {
      "cell_type": "code",
      "execution_count": null,
      "metadata": {
        "id": "Z6W76MpJwc2F"
      },
      "outputs": [],
      "source": []
    }
  ],
  "metadata": {
    "kernelspec": {
      "display_name": "Python 3",
      "language": "python",
      "name": "python3"
    },
    "language_info": {
      "codemirror_mode": {
        "name": "ipython",
        "version": 3
      },
      "file_extension": ".py",
      "mimetype": "text/x-python",
      "name": "python",
      "nbconvert_exporter": "python",
      "pygments_lexer": "ipython3",
      "version": "3.7.6"
    },
    "colab": {
      "provenance": []
    }
  },
  "nbformat": 4,
  "nbformat_minor": 0
}